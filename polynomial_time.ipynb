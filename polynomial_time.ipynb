{
 "cells": [
  {
   "cell_type": "markdown",
   "id": "293d0603",
   "metadata": {},
   "source": [
    "# The Polynomial Time Complexity Class (P)\n"
   ]
  },
  {
   "cell_type": "markdown",
   "id": "9b4f3d84",
   "metadata": {},
   "source": [
    "## Summary\n",
    "\n",
    "This python notebook is a detailed review on **The Polynomial Time Complexity Class**. The Time Complexity Class is an important concept in computer science and particularly when concerned with the implementation of algorithms. **Time complexity** is a way of comparing run times of algorithms in code, and there optimising and making code as efficent as possible.\n",
    "\n",
    "There are mupltiple time complexity types. However in this notebook we will focus on one; Polynomial time complexity,we will also loom at a major unsolved problem in theoretical computer science \"**The P versus NP problem**\", and all other aspects of time complexity that will help us to understand this concept."
   ]
  },
  {
   "cell_type": "markdown",
   "id": "dfb99a80",
   "metadata": {},
   "source": [
    "## Introduction"
   ]
  },
  {
   "cell_type": "markdown",
   "id": "7bddaf15",
   "metadata": {},
   "source": [
    "The following is some basic knowlegde that is needed to understand the basics of the theory of algorithms. This knowledge is the basic building blocks of what we need to know to understand the rest of this notebook;"
   ]
  },
  {
   "cell_type": "markdown",
   "id": "76a68a33",
   "metadata": {},
   "source": [
    "### Sets"
   ]
  },
  {
   "cell_type": "markdown",
   "id": "75b58e97",
   "metadata": {},
   "source": [
    "In computing theory, a set is an **abstract data type** that includes a collection of distinct elements. Sets are used to model many different types of problems and **data structures**, including databases, hash tables, and graphs. In this notebook we will be using sets in Python."
   ]
  },
  {
   "cell_type": "markdown",
   "id": "3959edff",
   "metadata": {},
   "source": [
    "Sets have unique advantages for solving problems in computer science:\n",
    "\n",
    "- Order: Sets do not have a specific order. The elements in a set are not arranged in any specific way. For example, the set {1, 2, 3} does not have a first element or a last element.\n",
    "- Membership: A set can hold any type of element, as long as the elements are distinct.\n",
    "- Operations: Sets are operable. It is possible to interact with them using set theory(union, intersection, difference)\n",
    "- Uniqueness: Sets only contain distinct elements and therefore duplicates do not exist within set theory."
   ]
  },
  {
   "cell_type": "code",
   "execution_count": 5,
   "id": "75db0206",
   "metadata": {},
   "outputs": [
    {
     "name": "stdout",
     "output_type": "stream",
     "text": [
      "{8, 2, 4, 6}\n"
     ]
    }
   ],
   "source": [
    "# Create a set\n",
    "set = {2, 4, 6, 8}\n",
    "print(set)   # {1, 2, 3, 4}\n"
   ]
  },
  {
   "cell_type": "code",
   "execution_count": 6,
   "id": "e4ac6e55",
   "metadata": {},
   "outputs": [
    {
     "name": "stdout",
     "output_type": "stream",
     "text": [
      "{2, 4, 6, 8, 10}\n"
     ]
    }
   ],
   "source": [
    "# Add an element to a set\n",
    "set.add(10)\n",
    "print(set)"
   ]
  },
  {
   "cell_type": "code",
   "execution_count": 8,
   "id": "ddf02447",
   "metadata": {},
   "outputs": [
    {
     "name": "stdout",
     "output_type": "stream",
     "text": [
      "{4, 6, 8}\n"
     ]
    }
   ],
   "source": [
    "# Remove an element from a set\n",
    "set.remove(2)\n",
    "print(set)   # {1, 2, 4, 5}"
   ]
  },
  {
   "cell_type": "markdown",
   "id": "4a151fe5",
   "metadata": {},
   "source": [
    "##### Set Operations"
   ]
  },
  {
   "cell_type": "code",
   "execution_count": 12,
   "id": "c17444b8",
   "metadata": {},
   "outputs": [],
   "source": [
    "# create two sets\n",
    "setone = {1, 2, 3}\n",
    "settwo = {2, 3, 4}"
   ]
  },
  {
   "cell_type": "markdown",
   "id": "909fdaf3",
   "metadata": {},
   "source": [
    "*Union Example:*"
   ]
  },
  {
   "cell_type": "code",
   "execution_count": 13,
   "id": "d0d7de19",
   "metadata": {},
   "outputs": [
    {
     "name": "stdout",
     "output_type": "stream",
     "text": [
      "{1, 2, 3, 4}\n"
     ]
    }
   ],
   "source": [
    "# Returns a set containing all the elements in both sets\n",
    "print(setone.union(settwo))"
   ]
  },
  {
   "cell_type": "markdown",
   "id": "ff71a394",
   "metadata": {},
   "source": [
    "*Intersection Example:*"
   ]
  },
  {
   "cell_type": "code",
   "execution_count": 14,
   "id": "7af46a06",
   "metadata": {},
   "outputs": [
    {
     "name": "stdout",
     "output_type": "stream",
     "text": [
      "{2, 3}\n"
     ]
    }
   ],
   "source": [
    "# returns a set containing the common elements in both sets\n",
    "print(setone.intersection(settwo))"
   ]
  },
  {
   "cell_type": "markdown",
   "id": "3c94badd",
   "metadata": {},
   "source": [
    "*Difference Example:*"
   ]
  },
  {
   "cell_type": "code",
   "execution_count": 15,
   "id": "62343122",
   "metadata": {},
   "outputs": [
    {
     "name": "stdout",
     "output_type": "stream",
     "text": [
      "{1}\n"
     ]
    }
   ],
   "source": [
    "# returns a set containing the elements in set1 that are not in set2\n",
    "print(setone.difference(settwo))"
   ]
  },
  {
   "cell_type": "markdown",
   "id": "ffc913ec",
   "metadata": {},
   "source": [
    "*Subset Example:*"
   ]
  },
  {
   "cell_type": "code",
   "execution_count": 16,
   "id": "4a9808c2",
   "metadata": {},
   "outputs": [
    {
     "name": "stdout",
     "output_type": "stream",
     "text": [
      "False\n"
     ]
    }
   ],
   "source": [
    "# checks if set1 is a subset of set2\n",
    "print(setone.issubset(settwo))"
   ]
  },
  {
   "cell_type": "markdown",
   "id": "7b46be6f",
   "metadata": {},
   "source": [
    "*Superset Example:*"
   ]
  },
  {
   "cell_type": "code",
   "execution_count": 18,
   "id": "1ca4b369",
   "metadata": {},
   "outputs": [
    {
     "name": "stdout",
     "output_type": "stream",
     "text": [
      "False\n"
     ]
    }
   ],
   "source": [
    "# checks if set1 is a superset of set2\n",
    "print(setone.issuperset(settwo))"
   ]
  },
  {
   "cell_type": "markdown",
   "id": "911169b9",
   "metadata": {},
   "source": [
    "### Tuples"
   ]
  },
  {
   "cell_type": "markdown",
   "id": "62e7d9e7",
   "metadata": {},
   "source": [
    "A tuple is an **ordered, immutable sequence of elements** that contains any combination of data types. Tuples are usually used in computing to represent a *fixed set* of related data. In this notebook we will be using Tuples in python.\n",
    "\n",
    "Sets also offer there own unique advantages for solving problems in computer science:\n",
    "\n",
    "- ordered: Tuples are ordered and maintain their order until their last instance in a program.\n",
    "- Flexible: Tuples can contain any data type, including numbers strings lists and other tuples.\n",
    "- Immutable: Once a tuple is created it is not editable, you can add delete or reorder that tuple, you must create another."
   ]
  },
  {
   "cell_type": "code",
   "execution_count": 21,
   "id": "53858396",
   "metadata": {},
   "outputs": [],
   "source": [
    "# create a tuple of integers\n",
    "t = (2, 4, 6, 8, 10)\n",
    "\n",
    "# create a tuple of mixed data types\n",
    "t2 = (27, \"Hello\", [2, 4, 6], {\"name\": \"Alan\", \"age\": 50})"
   ]
  },
  {
   "cell_type": "markdown",
   "id": "718d63bc",
   "metadata": {},
   "source": [
    "##### Accessing Tuples"
   ]
  },
  {
   "cell_type": "code",
   "execution_count": 22,
   "id": "fe2ac929",
   "metadata": {},
   "outputs": [
    {
     "name": "stdout",
     "output_type": "stream",
     "text": [
      "2\n",
      "10\n"
     ]
    }
   ],
   "source": [
    "# access first element\n",
    "print(t[0])\n",
    "\n",
    "# access last element\n",
    "print(t[len(t) - 1])"
   ]
  },
  {
   "cell_type": "markdown",
   "id": "75ba67e0",
   "metadata": {},
   "source": [
    "##### Tuple Operations"
   ]
  },
  {
   "cell_type": "code",
   "execution_count": 23,
   "id": "0cbfa327",
   "metadata": {},
   "outputs": [],
   "source": [
    "# create two tuples\n",
    "t1 = (1, 2, 3)\n",
    "t2 = (4, 5, 6)"
   ]
  },
  {
   "cell_type": "markdown",
   "id": "2f242399",
   "metadata": {},
   "source": [
    "*Concat tuples:*"
   ]
  },
  {
   "cell_type": "code",
   "execution_count": 25,
   "id": "9eceea78",
   "metadata": {},
   "outputs": [
    {
     "name": "stdout",
     "output_type": "stream",
     "text": [
      "(1, 2, 3, 4, 5, 6)\n"
     ]
    }
   ],
   "source": [
    "t3 = t1 + t2\n",
    "\n",
    "print(t3)"
   ]
  },
  {
   "cell_type": "markdown",
   "id": "8ddb8efa",
   "metadata": {},
   "source": [
    "*Slicing tuples:*"
   ]
  },
  {
   "cell_type": "code",
   "execution_count": 26,
   "id": "97e8acc1",
   "metadata": {},
   "outputs": [
    {
     "name": "stdout",
     "output_type": "stream",
     "text": [
      "(2, 4, 6)\n"
     ]
    }
   ],
   "source": [
    "t2 = t[0:3]\n",
    "\n",
    "print(t2)"
   ]
  },
  {
   "cell_type": "markdown",
   "id": "9fbd8531",
   "metadata": {},
   "source": [
    "*Membership testing tuples:*"
   ]
  },
  {
   "cell_type": "code",
   "execution_count": 27,
   "id": "bbfd23a1",
   "metadata": {},
   "outputs": [],
   "source": [
    "t = (1, 2, 3, 4, 5)"
   ]
  },
  {
   "cell_type": "markdown",
   "id": "0e38bcb3",
   "metadata": {},
   "source": [
    "- *check if the element 3 is present in the tuple:*"
   ]
  },
  {
   "cell_type": "code",
   "execution_count": 28,
   "id": "1f0d62ab",
   "metadata": {},
   "outputs": [
    {
     "name": "stdout",
     "output_type": "stream",
     "text": [
      "True\n"
     ]
    }
   ],
   "source": [
    "print(3 in t)"
   ]
  },
  {
   "cell_type": "markdown",
   "id": "26996616",
   "metadata": {},
   "source": [
    "- *check if the element 6 is present in the tuple*"
   ]
  },
  {
   "cell_type": "code",
   "execution_count": 29,
   "id": "693741a2",
   "metadata": {},
   "outputs": [
    {
     "name": "stdout",
     "output_type": "stream",
     "text": [
      "False\n"
     ]
    }
   ],
   "source": [
    "print(6 in t)"
   ]
  },
  {
   "cell_type": "markdown",
   "id": "a7f6615e",
   "metadata": {},
   "source": [
    "### Strings"
   ]
  },
  {
   "cell_type": "markdown",
   "id": "2f83dddd",
   "metadata": {},
   "source": [
    "A String is a **sequence of characters** in computing commonly used for a variety of different types of tasks like; store data or gather user input, show user output or else communicate with external programs. In this notebook we will be using Strings in python.\n",
    "\n",
    "Strings also offer there own unique advantages for solving problems in computer science:\n",
    "\n",
    "- Concatenation: Strings can be added togther in different ways to produce a a larger, singular string.\n",
    "- Slicing: Retrieving a substring based on a conditon given by the user.\n",
    "- Length: Calculating the length of a given string.\n",
    "- Case conversion: Converting from upper to lower and backwards."
   ]
  },
  {
   "cell_type": "markdown",
   "id": "d2bdd4a9",
   "metadata": {},
   "source": [
    "**String operations:**"
   ]
  },
  {
   "cell_type": "code",
   "execution_count": 32,
   "id": "b8c0052d",
   "metadata": {},
   "outputs": [],
   "source": [
    "string1 = \"hello\"\n",
    "string2 = \"world\""
   ]
  },
  {
   "cell_type": "markdown",
   "id": "ef9da5e8",
   "metadata": {},
   "source": [
    "*Concatenation:*"
   ]
  },
  {
   "cell_type": "code",
   "execution_count": 34,
   "id": "67ecc8bd",
   "metadata": {},
   "outputs": [
    {
     "name": "stdout",
     "output_type": "stream",
     "text": [
      "hello world\n"
     ]
    }
   ],
   "source": [
    "string3 = string1 + \" \" + string2\n",
    "print(string3)"
   ]
  },
  {
   "cell_type": "markdown",
   "id": "5c76e073",
   "metadata": {},
   "source": [
    "*Substring:*"
   ]
  },
  {
   "cell_type": "code",
   "execution_count": 35,
   "id": "ad6419a2",
   "metadata": {},
   "outputs": [
    {
     "name": "stdout",
     "output_type": "stream",
     "text": [
      "hel\n"
     ]
    }
   ],
   "source": [
    "substring = string3[0:3]\n",
    "print(substring)"
   ]
  },
  {
   "cell_type": "markdown",
   "id": "bf3be5d9",
   "metadata": {},
   "source": [
    "*Length:*"
   ]
  },
  {
   "cell_type": "code",
   "execution_count": 37,
   "id": "5edeb722",
   "metadata": {},
   "outputs": [
    {
     "name": "stdout",
     "output_type": "stream",
     "text": [
      "11\n"
     ]
    }
   ],
   "source": [
    "length = len(string3)\n",
    "print(length)"
   ]
  },
  {
   "cell_type": "markdown",
   "id": "5e6e6a5e",
   "metadata": {},
   "source": [
    "*Case Conversion:*"
   ]
  },
  {
   "cell_type": "code",
   "execution_count": 38,
   "id": "66d84c1a",
   "metadata": {},
   "outputs": [
    {
     "name": "stdout",
     "output_type": "stream",
     "text": [
      "HELLO WORLD\n"
     ]
    }
   ],
   "source": [
    "uppercase = string3.upper()\n",
    "print(uppercase)"
   ]
  },
  {
   "cell_type": "code",
   "execution_count": 39,
   "id": "51e96ecb",
   "metadata": {},
   "outputs": [
    {
     "name": "stdout",
     "output_type": "stream",
     "text": [
      "hello world\n"
     ]
    }
   ],
   "source": [
    "lowercase = string3.lower()\n",
    "print(lowercase)"
   ]
  },
  {
   "cell_type": "markdown",
   "id": "df7f65f9",
   "metadata": {},
   "source": [
    "### References"
   ]
  },
  {
   "cell_type": "markdown",
   "id": "76e080dd",
   "metadata": {},
   "source": []
  }
 ],
 "metadata": {
  "kernelspec": {
   "display_name": "Python 3 (ipykernel)",
   "language": "python",
   "name": "python3"
  },
  "language_info": {
   "codemirror_mode": {
    "name": "ipython",
    "version": 3
   },
   "file_extension": ".py",
   "mimetype": "text/x-python",
   "name": "python",
   "nbconvert_exporter": "python",
   "pygments_lexer": "ipython3",
   "version": "3.9.13"
  }
 },
 "nbformat": 4,
 "nbformat_minor": 5
}
