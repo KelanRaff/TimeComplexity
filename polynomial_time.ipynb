{
 "cells": [
  {
   "cell_type": "markdown",
   "id": "293d0603",
   "metadata": {},
   "source": [
    "# The Polynomial Time Complexity Class (P)\n"
   ]
  },
  {
   "cell_type": "markdown",
   "id": "9b4f3d84",
   "metadata": {},
   "source": [
    "## Summary\n",
    "\n",
    "This python notebook is a detailed review on **The Polynomial Time Complexity Class**. The Time Complexity Class is an important concept in computer science and particularly when concerned with the implementation of algorithms. **Time complexity** is a way of comparing run times of algorithms in code, and there optimising and making code as efficent as possible.\n",
    "\n",
    "Specifically, we are interested in how the runtime of an algorithm increases as the numbers of inputs increases and how we can make this as efficient as possible, by finding the upper bound of the algorithms runtime. Our metric for this is **Big O notation**.\n",
    "\n",
    "There are multiple time complexity types. However in this notebook we will focus on one:\n",
    "\n",
    "Polynomial time complexity, a set of problems that have **algorithmic solutions** that run in polynomial time.\n",
    "\n",
    "We will also loom at a major unsolved problem in theoretical computer science \"**The P versus NP problem**\", and all other aspects of time complexity that will help us to understand this concept."
   ]
  },
  {
   "cell_type": "markdown",
   "id": "00c12cf4",
   "metadata": {},
   "source": [
    "## Table of Contents"
   ]
  },
  {
   "cell_type": "markdown",
   "id": "6d25160b",
   "metadata": {},
   "source": [
    "\n",
    "- 1. Introduction\n",
    "- 2. Big O Definition\n",
    "- 3. Discussion of Computational Complexity\n",
    "- 4. P VS NP\n",
    "- 5. References"
   ]
  },
  {
   "cell_type": "markdown",
   "id": "f8154921",
   "metadata": {},
   "source": [
    "## Introduction"
   ]
  },
  {
   "cell_type": "markdown",
   "id": "92765260",
   "metadata": {},
   "source": [
    "The following is some basic knowlegde that is needed to understand the basics of the theory of algorithms. This knowledge is the basic building blocks of what we need to know to understand the rest of this notebook;"
   ]
  },
  {
   "cell_type": "markdown",
   "id": "cc3422c5",
   "metadata": {},
   "source": [
    "### Sets"
   ]
  },
  {
   "cell_type": "markdown",
   "id": "b67155ce",
   "metadata": {},
   "source": [
    "In computing theory, a set is an **abstract data type** that includes a collection of distinct elements. Sets are used to model many different types of problems and **data structures**, including databases, hash tables, and graphs. In this notebook we will be using sets in Python."
   ]
  },
  {
   "cell_type": "markdown",
   "id": "a85109f7",
   "metadata": {},
   "source": [
    "Sets have unique advantages for solving problems in computer science:\n",
    "\n",
    "- Order: Sets do not have a specific order. The elements in a set are not arranged in any specific way. For example, the set {1, 2, 3} does not have a first element or a last element.\n",
    "- Membership: A set can hold any type of element, as long as the elements are distinct.\n",
    "- Operations: Sets are operable. It is possible to interact with them using set theory(union, intersection, difference)\n",
    "- Uniqueness: Sets only contain distinct elements and therefore duplicates do not exist within set theory."
   ]
  },
  {
   "cell_type": "code",
   "execution_count": 5,
   "id": "8f75e09e",
   "metadata": {},
   "outputs": [
    {
     "name": "stdout",
     "output_type": "stream",
     "text": [
      "{8, 2, 4, 6}\n"
     ]
    }
   ],
   "source": [
    "# Create a set\n",
    "set = {2, 4, 6, 8}\n",
    "print(set)   # {1, 2, 3, 4}\n"
   ]
  },
  {
   "cell_type": "code",
   "execution_count": 6,
   "id": "27f46c8a",
   "metadata": {},
   "outputs": [
    {
     "name": "stdout",
     "output_type": "stream",
     "text": [
      "{2, 4, 6, 8, 10}\n"
     ]
    }
   ],
   "source": [
    "# Add an element to a set\n",
    "set.add(10)\n",
    "print(set)"
   ]
  },
  {
   "cell_type": "code",
   "execution_count": 8,
   "id": "2e972f08",
   "metadata": {},
   "outputs": [
    {
     "name": "stdout",
     "output_type": "stream",
     "text": [
      "{4, 6, 8}\n"
     ]
    }
   ],
   "source": [
    "# Remove an element from a set\n",
    "set.remove(2)\n",
    "print(set)   # {1, 2, 4, 5}"
   ]
  },
  {
   "cell_type": "markdown",
   "id": "26cbacbb",
   "metadata": {},
   "source": [
    "##### Set Operations"
   ]
  },
  {
   "cell_type": "code",
   "execution_count": 12,
   "id": "cb31d15e",
   "metadata": {},
   "outputs": [],
   "source": [
    "# create two sets\n",
    "setone = {1, 2, 3}\n",
    "settwo = {2, 3, 4}"
   ]
  },
  {
   "cell_type": "markdown",
   "id": "c3489f9a",
   "metadata": {},
   "source": [
    "*Union Example:*"
   ]
  },
  {
   "cell_type": "code",
   "execution_count": 13,
   "id": "d4bc5eb2",
   "metadata": {},
   "outputs": [
    {
     "name": "stdout",
     "output_type": "stream",
     "text": [
      "{1, 2, 3, 4}\n"
     ]
    }
   ],
   "source": [
    "# Returns a set containing all the elements in both sets\n",
    "print(setone.union(settwo))"
   ]
  },
  {
   "cell_type": "markdown",
   "id": "08f81b74",
   "metadata": {},
   "source": [
    "*Intersection Example:*"
   ]
  },
  {
   "cell_type": "code",
   "execution_count": 14,
   "id": "782c8134",
   "metadata": {},
   "outputs": [
    {
     "name": "stdout",
     "output_type": "stream",
     "text": [
      "{2, 3}\n"
     ]
    }
   ],
   "source": [
    "# returns a set containing the common elements in both sets\n",
    "print(setone.intersection(settwo))"
   ]
  },
  {
   "cell_type": "markdown",
   "id": "c16ea9c9",
   "metadata": {},
   "source": [
    "*Difference Example:*"
   ]
  },
  {
   "cell_type": "code",
   "execution_count": 15,
   "id": "4dc33093",
   "metadata": {},
   "outputs": [
    {
     "name": "stdout",
     "output_type": "stream",
     "text": [
      "{1}\n"
     ]
    }
   ],
   "source": [
    "# returns a set containing the elements in set1 that are not in set2\n",
    "print(setone.difference(settwo))"
   ]
  },
  {
   "cell_type": "markdown",
   "id": "78ba0326",
   "metadata": {},
   "source": [
    "*Subset Example:*"
   ]
  },
  {
   "cell_type": "code",
   "execution_count": 16,
   "id": "47274113",
   "metadata": {},
   "outputs": [
    {
     "name": "stdout",
     "output_type": "stream",
     "text": [
      "False\n"
     ]
    }
   ],
   "source": [
    "# checks if set1 is a subset of set2\n",
    "print(setone.issubset(settwo))"
   ]
  },
  {
   "cell_type": "markdown",
   "id": "fd1e721a",
   "metadata": {},
   "source": [
    "*Superset Example:*"
   ]
  },
  {
   "cell_type": "code",
   "execution_count": 18,
   "id": "d17054fb",
   "metadata": {},
   "outputs": [
    {
     "name": "stdout",
     "output_type": "stream",
     "text": [
      "False\n"
     ]
    }
   ],
   "source": [
    "# checks if set1 is a superset of set2\n",
    "print(setone.issuperset(settwo))"
   ]
  },
  {
   "cell_type": "markdown",
   "id": "7e92fa97",
   "metadata": {},
   "source": [
    "### Tuples"
   ]
  },
  {
   "cell_type": "markdown",
   "id": "eb097e6a",
   "metadata": {},
   "source": [
    "A tuple is an **ordered, immutable sequence of elements** that contains any combination of data types. Tuples are usually used in computing to represent a *fixed set* of related data. In this notebook we will be using Tuples in python.\n",
    "\n",
    "Sets also offer there own unique advantages for solving problems in computer science:\n",
    "\n",
    "- ordered: Tuples are ordered and maintain their order until their last instance in a program.\n",
    "- Flexible: Tuples can contain any data type, including numbers strings lists and other tuples.\n",
    "- Immutable: Once a tuple is created it is not editable, you can add delete or reorder that tuple, you must create another."
   ]
  },
  {
   "cell_type": "code",
   "execution_count": 21,
   "id": "d8ed8e20",
   "metadata": {},
   "outputs": [],
   "source": [
    "# create a tuple of integers\n",
    "t = (2, 4, 6, 8, 10)\n",
    "\n",
    "# create a tuple of mixed data types\n",
    "t2 = (27, \"Hello\", [2, 4, 6], {\"name\": \"Alan\", \"age\": 50})"
   ]
  },
  {
   "cell_type": "markdown",
   "id": "17038064",
   "metadata": {},
   "source": [
    "##### Accessing Tuples"
   ]
  },
  {
   "cell_type": "code",
   "execution_count": 22,
   "id": "aa4130ed",
   "metadata": {},
   "outputs": [
    {
     "name": "stdout",
     "output_type": "stream",
     "text": [
      "2\n",
      "10\n"
     ]
    }
   ],
   "source": [
    "# access first element\n",
    "print(t[0])\n",
    "\n",
    "# access last element\n",
    "print(t[len(t) - 1])"
   ]
  },
  {
   "cell_type": "markdown",
   "id": "8a3789e8",
   "metadata": {},
   "source": [
    "##### Tuple Operations"
   ]
  },
  {
   "cell_type": "code",
   "execution_count": 23,
   "id": "3869d882",
   "metadata": {},
   "outputs": [],
   "source": [
    "# create two tuples\n",
    "t1 = (1, 2, 3)\n",
    "t2 = (4, 5, 6)"
   ]
  },
  {
   "cell_type": "markdown",
   "id": "113526b1",
   "metadata": {},
   "source": [
    "*Concat tuples:*"
   ]
  },
  {
   "cell_type": "code",
   "execution_count": 25,
   "id": "afe0c78c",
   "metadata": {},
   "outputs": [
    {
     "name": "stdout",
     "output_type": "stream",
     "text": [
      "(1, 2, 3, 4, 5, 6)\n"
     ]
    }
   ],
   "source": [
    "t3 = t1 + t2\n",
    "\n",
    "print(t3)"
   ]
  },
  {
   "cell_type": "markdown",
   "id": "83956539",
   "metadata": {},
   "source": [
    "*Slicing tuples:*"
   ]
  },
  {
   "cell_type": "code",
   "execution_count": 26,
   "id": "e629a41d",
   "metadata": {},
   "outputs": [
    {
     "name": "stdout",
     "output_type": "stream",
     "text": [
      "(2, 4, 6)\n"
     ]
    }
   ],
   "source": [
    "t2 = t[0:3]\n",
    "\n",
    "print(t2)"
   ]
  },
  {
   "cell_type": "markdown",
   "id": "6fb6b36e",
   "metadata": {},
   "source": [
    "*Membership testing tuples:*"
   ]
  },
  {
   "cell_type": "code",
   "execution_count": 27,
   "id": "06a55806",
   "metadata": {},
   "outputs": [],
   "source": [
    "t = (1, 2, 3, 4, 5)"
   ]
  },
  {
   "cell_type": "markdown",
   "id": "6e568344",
   "metadata": {},
   "source": [
    "- *check if the element 3 is present in the tuple:*"
   ]
  },
  {
   "cell_type": "code",
   "execution_count": 28,
   "id": "196a2ece",
   "metadata": {},
   "outputs": [
    {
     "name": "stdout",
     "output_type": "stream",
     "text": [
      "True\n"
     ]
    }
   ],
   "source": [
    "print(3 in t)"
   ]
  },
  {
   "cell_type": "markdown",
   "id": "f2247bb5",
   "metadata": {},
   "source": [
    "- *check if the element 6 is present in the tuple*"
   ]
  },
  {
   "cell_type": "code",
   "execution_count": 29,
   "id": "fae63e96",
   "metadata": {},
   "outputs": [
    {
     "name": "stdout",
     "output_type": "stream",
     "text": [
      "False\n"
     ]
    }
   ],
   "source": [
    "print(6 in t)"
   ]
  },
  {
   "cell_type": "markdown",
   "id": "46d8692e",
   "metadata": {},
   "source": [
    "### Strings"
   ]
  },
  {
   "cell_type": "markdown",
   "id": "9f7d489d",
   "metadata": {},
   "source": [
    "A String is a **sequence of characters** in computing commonly used for a variety of different types of tasks like; store data or gather user input, show user output or else communicate with external programs. In this notebook we will be using Strings in python.\n",
    "\n",
    "Strings also offer there own unique advantages for solving problems in computer science:\n",
    "\n",
    "- Concatenation: Strings can be added togther in different ways to produce a a larger, singular string.\n",
    "- Slicing: Retrieving a substring based on a conditon given by the user.\n",
    "- Length: Calculating the length of a given string.\n",
    "- Case conversion: Converting from upper to lower and backwards."
   ]
  },
  {
   "cell_type": "markdown",
   "id": "5412cbfa",
   "metadata": {},
   "source": [
    "**String operations:**"
   ]
  },
  {
   "cell_type": "code",
   "execution_count": 32,
   "id": "93057365",
   "metadata": {},
   "outputs": [],
   "source": [
    "string1 = \"hello\"\n",
    "string2 = \"world\""
   ]
  },
  {
   "cell_type": "markdown",
   "id": "2cb08502",
   "metadata": {},
   "source": [
    "*Concatenation:*"
   ]
  },
  {
   "cell_type": "code",
   "execution_count": 34,
   "id": "ba4335df",
   "metadata": {},
   "outputs": [
    {
     "name": "stdout",
     "output_type": "stream",
     "text": [
      "hello world\n"
     ]
    }
   ],
   "source": [
    "string3 = string1 + \" \" + string2\n",
    "print(string3)"
   ]
  },
  {
   "cell_type": "markdown",
   "id": "df4a7458",
   "metadata": {},
   "source": [
    "*Substring:*"
   ]
  },
  {
   "cell_type": "code",
   "execution_count": 35,
   "id": "460697bd",
   "metadata": {},
   "outputs": [
    {
     "name": "stdout",
     "output_type": "stream",
     "text": [
      "hel\n"
     ]
    }
   ],
   "source": [
    "substring = string3[0:3]\n",
    "print(substring)"
   ]
  },
  {
   "cell_type": "markdown",
   "id": "7008b52d",
   "metadata": {},
   "source": [
    "*Length:*"
   ]
  },
  {
   "cell_type": "code",
   "execution_count": 37,
   "id": "987f3c1d",
   "metadata": {},
   "outputs": [
    {
     "name": "stdout",
     "output_type": "stream",
     "text": [
      "11\n"
     ]
    }
   ],
   "source": [
    "length = len(string3)\n",
    "print(length)"
   ]
  },
  {
   "cell_type": "markdown",
   "id": "7ddd21a1",
   "metadata": {},
   "source": [
    "*Case Conversion:*"
   ]
  },
  {
   "cell_type": "code",
   "execution_count": 38,
   "id": "530c94e0",
   "metadata": {},
   "outputs": [
    {
     "name": "stdout",
     "output_type": "stream",
     "text": [
      "HELLO WORLD\n"
     ]
    }
   ],
   "source": [
    "uppercase = string3.upper()\n",
    "print(uppercase)"
   ]
  },
  {
   "cell_type": "code",
   "execution_count": 39,
   "id": "4ff0c51e",
   "metadata": {},
   "outputs": [
    {
     "name": "stdout",
     "output_type": "stream",
     "text": [
      "hello world\n"
     ]
    }
   ],
   "source": [
    "lowercase = string3.lower()\n",
    "print(lowercase)"
   ]
  },
  {
   "cell_type": "markdown",
   "id": "2edca13f",
   "metadata": {},
   "source": [
    "Now that we understand the operations of these basic computing terms, we may apply them to our Polynomial Time complexity Problems:"
   ]
  },
  {
   "cell_type": "markdown",
   "id": "9b991197",
   "metadata": {},
   "source": [
    "## Big O Definition"
   ]
  },
  {
   "cell_type": "markdown",
   "id": "a7d661d2",
   "metadata": {},
   "source": [
    "**Big O Notation** refers to a mathematical function applied in computer science to analyze algorithmic complexity. It tells us the runtime that is required for a given algorithm, but wont tell you how fast your algorithm is at runtime. Instead it tells us how our algorithm performs under *different input sizes* (**dynamically**).\n",
    "\n",
    "If an algorithm carries out a computation on each item within an array of size n, that algorithm runs in **O(n)** time and performs **O(1) work for each item**. This, However can be optimised.\n",
    "\n",
    "There are different classes of Big O Notation , These classes help us to classify an **algorithms efficiency**."
   ]
  },
  {
   "cell_type": "markdown",
   "id": "99b6f445",
   "metadata": {},
   "source": [
    "## Discussion of computational Complexity"
   ]
  },
  {
   "cell_type": "markdown",
   "id": "bf22df4e",
   "metadata": {},
   "source": [
    "Graph isomorphism became a well established problem back in the 1970's, when it emerged as a natural problem with a NP complexity. It wasnt solvable with an efficient algorithm but was possible to brute force. This means that László Babai and his working have been the only breakthrough in recent times. Before we basically had to do this problem in a step by step process and had to easy way up up the efficiency of the problem solving.\n",
    "\n",
    "This is due to the nature of the problem and the elements of it that need to be done one at a time. There is no way to solve this method that has been verified that has an efficient way to get through the problem. This becomes obvious when we look at larger and larger graphs that become very complex and require alot of computation.\n",
    "\n",
    "Babai's Quasi-polynomial Time Solution would prove the problem to be P complexity, which places it into problems that can be solved efficiently as discussed in the intro. This means that fi his work is verified, would solve a problem that wasnt thought to be solvable for the last few decades.\n",
    "\n",
    "His work has seemed to rattle the cage in terms of the fact that it was widely believed this problem, before the solution was presented was NP Complete.\n",
    "\n",
    "The problem itself was one of the few natural problems in modern day mathematics and computation that was placed in a grey zone been being P or NP complete.\n",
    "\n",
    "As for the not yet verified status of graph isomorphism, it is still up for debate whether it is N or NP. Some people still think that it is NP-complete and there will never be an algorithm capable of solving this very complex computiong problem."
   ]
  },
  {
   "cell_type": "markdown",
   "id": "56f04f2a",
   "metadata": {},
   "source": [
    "#### A Quick Cheat Sheet for Time Complexity when sorting through arrays:"
   ]
  },
  {
   "attachments": {
    "Jupyter.png": {
     "image/png": "[encoded data removed]"
    }
   },
   "cell_type": "markdown",
   "id": "d74a6309",
   "metadata": {},
   "source": [
    "![Jupyter.png](attachment:Jupyter.png)"
   ]
  },
  {
   "cell_type": "markdown",
   "id": "38a45e14",
   "metadata": {},
   "source": [
    "## P vs NP"
   ]
  },
  {
   "cell_type": "markdown",
   "id": "c1cdfc40",
   "metadata": {},
   "source": [
    "The P vs NP problem is a major problem that has yet to be solved in mathematics, that basically is the the essence of what was discussed above. The Question is, can a problem be quickly solved and quickly verified in polynomial time. It is **widely believed** for the most part, that P != NP which if true would mean that problems that are NP are harder to compute than to verify. they couldnt be solved in polynomial time but could be verified within it.\n",
    "\n",
    "Formula : **P = NP**\n",
    "\n",
    "*Where P = Polynomial Time NP = Nondeternimistic Polynomial Time*\n",
    "\n",
    "A hungarian scientist by the name of **laszló Babai** has had breakthough results in recent years however they are still being fully verified which takes time. His results were proof that the graph isomorphism problem could be solved in **quasi-polynomial time**."
   ]
  },
  {
   "cell_type": "markdown",
   "id": "607c8b12",
   "metadata": {},
   "source": [
    "### References"
   ]
  },
  {
   "cell_type": "markdown",
   "id": "4c3d318a",
   "metadata": {},
   "source": [
    "- Biggs, N.L., 2002. Discrete mathematics. Oxford University Press.\n",
    "- Sipser, M., 1996. Introduction to the Theory of Computation. ACM Sigact News, 27(1).\n",
    "- Schweitzer, M.G., Pascal (n.d.). The Graph Isomorphism Problem. [online] cacm.acm.org.\n",
    "- Hackr.io. (n.d.). Big O Notation Algorithm Complexity Cheat Sheet\n"
   ]
  },
  {
   "cell_type": "code",
   "execution_count": null,
   "id": "c6c9850d",
   "metadata": {},
   "outputs": [],
   "source": []
  }
 ],
 "metadata": {
  "kernelspec": {
   "display_name": "Python 3 (ipykernel)",
   "language": "python",
   "name": "python3"
  },
  "language_info": {
   "codemirror_mode": {
    "name": "ipython",
    "version": 3
   },
   "file_extension": ".py",
   "mimetype": "text/x-python",
   "name": "python",
   "nbconvert_exporter": "python",
   "pygments_lexer": "ipython3",
   "version": "3.9.13"
  }
 },
 "nbformat": 4,
 "nbformat_minor": 5
}
