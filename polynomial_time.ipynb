{
 "cells": [
  {
   "cell_type": "markdown",
   "id": "293d0603",
   "metadata": {},
   "source": [
    "# The Polynomial Time Complexity Class (P)\n"
   ]
  },
  {
   "cell_type": "markdown",
   "id": "9b4f3d84",
   "metadata": {},
   "source": [
    "## Summary\n",
    "\n",
    "This python notebook is a detailed review on **The Polynomial Time Complexity Class**. The Time Complexity Class is an important concept in computer science and particularly when concerned with the implementation of algorithms. **Time complexity** is a way of comparing run times of algorithms in code, and there optimising and making code as efficent as possible.\n",
    "\n",
    "Specifically, we are interested in how the runtime of an algorithm increases as the numbers of inputs increases and how we can make this as efficient as possible, by finding the upper bound of the algorithms runtime. Our metric for this is **Big O notation**.\n",
    "\n",
    "There are multiple time complexity types. However in this notebook we will focus on one:\n",
    "\n",
    "Polynomial time complexity, a set of problems that have **algorithmic solutions** that run in polynomial time.\n",
    "\n",
    "We will also loom at a major unsolved problem in theoretical computer science \"**The P versus NP problem**\", and all other aspects of time complexity that will help us to understand this concept."
   ]
  },
  {
   "cell_type": "markdown",
   "id": "89058247",
   "metadata": {},
   "source": [
    "## Introduction"
   ]
  },
  {
   "cell_type": "markdown",
   "id": "b20eee0a",
   "metadata": {},
   "source": [
    "The following is some basic knowlegde that is needed to understand the basics of the theory of algorithms. This knowledge is the basic building blocks of what we need to know to understand the rest of this notebook;"
   ]
  },
  {
   "cell_type": "markdown",
   "id": "f6bcbf7a",
   "metadata": {},
   "source": [
    "### Sets"
   ]
  },
  {
   "cell_type": "markdown",
   "id": "3b458f66",
   "metadata": {},
   "source": [
    "In computing theory, a set is an **abstract data type** that includes a collection of distinct elements. Sets are used to model many different types of problems and **data structures**, including databases, hash tables, and graphs. In this notebook we will be using sets in Python."
   ]
  },
  {
   "cell_type": "markdown",
   "id": "983dbeeb",
   "metadata": {},
   "source": [
    "Sets have unique advantages for solving problems in computer science:\n",
    "\n",
    "- Order: Sets do not have a specific order. The elements in a set are not arranged in any specific way. For example, the set {1, 2, 3} does not have a first element or a last element.\n",
    "- Membership: A set can hold any type of element, as long as the elements are distinct.\n",
    "- Operations: Sets are operable. It is possible to interact with them using set theory(union, intersection, difference)\n",
    "- Uniqueness: Sets only contain distinct elements and therefore duplicates do not exist within set theory."
   ]
  },
  {
   "cell_type": "code",
   "execution_count": 5,
   "id": "093a95cb",
   "metadata": {},
   "outputs": [
    {
     "name": "stdout",
     "output_type": "stream",
     "text": [
      "{8, 2, 4, 6}\n"
     ]
    }
   ],
   "source": [
    "# Create a set\n",
    "set = {2, 4, 6, 8}\n",
    "print(set)   # {1, 2, 3, 4}\n"
   ]
  },
  {
   "cell_type": "code",
   "execution_count": 6,
   "id": "78b0042c",
   "metadata": {},
   "outputs": [
    {
     "name": "stdout",
     "output_type": "stream",
     "text": [
      "{2, 4, 6, 8, 10}\n"
     ]
    }
   ],
   "source": [
    "# Add an element to a set\n",
    "set.add(10)\n",
    "print(set)"
   ]
  },
  {
   "cell_type": "code",
   "execution_count": 8,
   "id": "25494c2b",
   "metadata": {},
   "outputs": [
    {
     "name": "stdout",
     "output_type": "stream",
     "text": [
      "{4, 6, 8}\n"
     ]
    }
   ],
   "source": [
    "# Remove an element from a set\n",
    "set.remove(2)\n",
    "print(set)   # {1, 2, 4, 5}"
   ]
  },
  {
   "cell_type": "markdown",
   "id": "b3545a90",
   "metadata": {},
   "source": [
    "##### Set Operations"
   ]
  },
  {
   "cell_type": "code",
   "execution_count": 12,
   "id": "15d843f8",
   "metadata": {},
   "outputs": [],
   "source": [
    "# create two sets\n",
    "setone = {1, 2, 3}\n",
    "settwo = {2, 3, 4}"
   ]
  },
  {
   "cell_type": "markdown",
   "id": "167a00ef",
   "metadata": {},
   "source": [
    "*Union Example:*"
   ]
  },
  {
   "cell_type": "code",
   "execution_count": 13,
   "id": "9d8509ac",
   "metadata": {},
   "outputs": [
    {
     "name": "stdout",
     "output_type": "stream",
     "text": [
      "{1, 2, 3, 4}\n"
     ]
    }
   ],
   "source": [
    "# Returns a set containing all the elements in both sets\n",
    "print(setone.union(settwo))"
   ]
  },
  {
   "cell_type": "markdown",
   "id": "fb695287",
   "metadata": {},
   "source": [
    "*Intersection Example:*"
   ]
  },
  {
   "cell_type": "code",
   "execution_count": 14,
   "id": "b92cb52c",
   "metadata": {},
   "outputs": [
    {
     "name": "stdout",
     "output_type": "stream",
     "text": [
      "{2, 3}\n"
     ]
    }
   ],
   "source": [
    "# returns a set containing the common elements in both sets\n",
    "print(setone.intersection(settwo))"
   ]
  },
  {
   "cell_type": "markdown",
   "id": "99cb14b3",
   "metadata": {},
   "source": [
    "*Difference Example:*"
   ]
  },
  {
   "cell_type": "code",
   "execution_count": 15,
   "id": "924ce6f7",
   "metadata": {},
   "outputs": [
    {
     "name": "stdout",
     "output_type": "stream",
     "text": [
      "{1}\n"
     ]
    }
   ],
   "source": [
    "# returns a set containing the elements in set1 that are not in set2\n",
    "print(setone.difference(settwo))"
   ]
  },
  {
   "cell_type": "markdown",
   "id": "3b5559d5",
   "metadata": {},
   "source": [
    "*Subset Example:*"
   ]
  },
  {
   "cell_type": "code",
   "execution_count": 16,
   "id": "e73e5364",
   "metadata": {},
   "outputs": [
    {
     "name": "stdout",
     "output_type": "stream",
     "text": [
      "False\n"
     ]
    }
   ],
   "source": [
    "# checks if set1 is a subset of set2\n",
    "print(setone.issubset(settwo))"
   ]
  },
  {
   "cell_type": "markdown",
   "id": "4011033a",
   "metadata": {},
   "source": [
    "*Superset Example:*"
   ]
  },
  {
   "cell_type": "code",
   "execution_count": 18,
   "id": "7b98951f",
   "metadata": {},
   "outputs": [
    {
     "name": "stdout",
     "output_type": "stream",
     "text": [
      "False\n"
     ]
    }
   ],
   "source": [
    "# checks if set1 is a superset of set2\n",
    "print(setone.issuperset(settwo))"
   ]
  },
  {
   "cell_type": "markdown",
   "id": "d3bea4f7",
   "metadata": {},
   "source": [
    "### Tuples"
   ]
  },
  {
   "cell_type": "markdown",
   "id": "3d90004e",
   "metadata": {},
   "source": [
    "A tuple is an **ordered, immutable sequence of elements** that contains any combination of data types. Tuples are usually used in computing to represent a *fixed set* of related data. In this notebook we will be using Tuples in python.\n",
    "\n",
    "Sets also offer there own unique advantages for solving problems in computer science:\n",
    "\n",
    "- ordered: Tuples are ordered and maintain their order until their last instance in a program.\n",
    "- Flexible: Tuples can contain any data type, including numbers strings lists and other tuples.\n",
    "- Immutable: Once a tuple is created it is not editable, you can add delete or reorder that tuple, you must create another."
   ]
  },
  {
   "cell_type": "code",
   "execution_count": 21,
   "id": "199f2027",
   "metadata": {},
   "outputs": [],
   "source": [
    "# create a tuple of integers\n",
    "t = (2, 4, 6, 8, 10)\n",
    "\n",
    "# create a tuple of mixed data types\n",
    "t2 = (27, \"Hello\", [2, 4, 6], {\"name\": \"Alan\", \"age\": 50})"
   ]
  },
  {
   "cell_type": "markdown",
   "id": "cbb24443",
   "metadata": {},
   "source": [
    "##### Accessing Tuples"
   ]
  },
  {
   "cell_type": "code",
   "execution_count": 22,
   "id": "25b6cd54",
   "metadata": {},
   "outputs": [
    {
     "name": "stdout",
     "output_type": "stream",
     "text": [
      "2\n",
      "10\n"
     ]
    }
   ],
   "source": [
    "# access first element\n",
    "print(t[0])\n",
    "\n",
    "# access last element\n",
    "print(t[len(t) - 1])"
   ]
  },
  {
   "cell_type": "markdown",
   "id": "729bc3da",
   "metadata": {},
   "source": [
    "##### Tuple Operations"
   ]
  },
  {
   "cell_type": "code",
   "execution_count": 23,
   "id": "59100e8d",
   "metadata": {},
   "outputs": [],
   "source": [
    "# create two tuples\n",
    "t1 = (1, 2, 3)\n",
    "t2 = (4, 5, 6)"
   ]
  },
  {
   "cell_type": "markdown",
   "id": "6919bc65",
   "metadata": {},
   "source": [
    "*Concat tuples:*"
   ]
  },
  {
   "cell_type": "code",
   "execution_count": 25,
   "id": "9db63fb7",
   "metadata": {},
   "outputs": [
    {
     "name": "stdout",
     "output_type": "stream",
     "text": [
      "(1, 2, 3, 4, 5, 6)\n"
     ]
    }
   ],
   "source": [
    "t3 = t1 + t2\n",
    "\n",
    "print(t3)"
   ]
  },
  {
   "cell_type": "markdown",
   "id": "429951b4",
   "metadata": {},
   "source": [
    "*Slicing tuples:*"
   ]
  },
  {
   "cell_type": "code",
   "execution_count": 26,
   "id": "d76bc203",
   "metadata": {},
   "outputs": [
    {
     "name": "stdout",
     "output_type": "stream",
     "text": [
      "(2, 4, 6)\n"
     ]
    }
   ],
   "source": [
    "t2 = t[0:3]\n",
    "\n",
    "print(t2)"
   ]
  },
  {
   "cell_type": "markdown",
   "id": "d1b97170",
   "metadata": {},
   "source": [
    "*Membership testing tuples:*"
   ]
  },
  {
   "cell_type": "code",
   "execution_count": 27,
   "id": "17a863b8",
   "metadata": {},
   "outputs": [],
   "source": [
    "t = (1, 2, 3, 4, 5)"
   ]
  },
  {
   "cell_type": "markdown",
   "id": "6fd5f601",
   "metadata": {},
   "source": [
    "- *check if the element 3 is present in the tuple:*"
   ]
  },
  {
   "cell_type": "code",
   "execution_count": 28,
   "id": "98a33062",
   "metadata": {},
   "outputs": [
    {
     "name": "stdout",
     "output_type": "stream",
     "text": [
      "True\n"
     ]
    }
   ],
   "source": [
    "print(3 in t)"
   ]
  },
  {
   "cell_type": "markdown",
   "id": "9e3bf78a",
   "metadata": {},
   "source": [
    "- *check if the element 6 is present in the tuple*"
   ]
  },
  {
   "cell_type": "code",
   "execution_count": 29,
   "id": "7f308e27",
   "metadata": {},
   "outputs": [
    {
     "name": "stdout",
     "output_type": "stream",
     "text": [
      "False\n"
     ]
    }
   ],
   "source": [
    "print(6 in t)"
   ]
  },
  {
   "cell_type": "markdown",
   "id": "0b15d13c",
   "metadata": {},
   "source": [
    "### Strings"
   ]
  },
  {
   "cell_type": "markdown",
   "id": "edcf578c",
   "metadata": {},
   "source": [
    "A String is a **sequence of characters** in computing commonly used for a variety of different types of tasks like; store data or gather user input, show user output or else communicate with external programs. In this notebook we will be using Strings in python.\n",
    "\n",
    "Strings also offer there own unique advantages for solving problems in computer science:\n",
    "\n",
    "- Concatenation: Strings can be added togther in different ways to produce a a larger, singular string.\n",
    "- Slicing: Retrieving a substring based on a conditon given by the user.\n",
    "- Length: Calculating the length of a given string.\n",
    "- Case conversion: Converting from upper to lower and backwards."
   ]
  },
  {
   "cell_type": "markdown",
   "id": "fcfba195",
   "metadata": {},
   "source": [
    "**String operations:**"
   ]
  },
  {
   "cell_type": "code",
   "execution_count": 32,
   "id": "6f55365c",
   "metadata": {},
   "outputs": [],
   "source": [
    "string1 = \"hello\"\n",
    "string2 = \"world\""
   ]
  },
  {
   "cell_type": "markdown",
   "id": "979ff100",
   "metadata": {},
   "source": [
    "*Concatenation:*"
   ]
  },
  {
   "cell_type": "code",
   "execution_count": 34,
   "id": "749e47a1",
   "metadata": {},
   "outputs": [
    {
     "name": "stdout",
     "output_type": "stream",
     "text": [
      "hello world\n"
     ]
    }
   ],
   "source": [
    "string3 = string1 + \" \" + string2\n",
    "print(string3)"
   ]
  },
  {
   "cell_type": "markdown",
   "id": "50c2c21e",
   "metadata": {},
   "source": [
    "*Substring:*"
   ]
  },
  {
   "cell_type": "code",
   "execution_count": 35,
   "id": "1f7d3323",
   "metadata": {},
   "outputs": [
    {
     "name": "stdout",
     "output_type": "stream",
     "text": [
      "hel\n"
     ]
    }
   ],
   "source": [
    "substring = string3[0:3]\n",
    "print(substring)"
   ]
  },
  {
   "cell_type": "markdown",
   "id": "d8e7a85b",
   "metadata": {},
   "source": [
    "*Length:*"
   ]
  },
  {
   "cell_type": "code",
   "execution_count": 37,
   "id": "5748898a",
   "metadata": {},
   "outputs": [
    {
     "name": "stdout",
     "output_type": "stream",
     "text": [
      "11\n"
     ]
    }
   ],
   "source": [
    "length = len(string3)\n",
    "print(length)"
   ]
  },
  {
   "cell_type": "markdown",
   "id": "ef3541dd",
   "metadata": {},
   "source": [
    "*Case Conversion:*"
   ]
  },
  {
   "cell_type": "code",
   "execution_count": 38,
   "id": "34b394fd",
   "metadata": {},
   "outputs": [
    {
     "name": "stdout",
     "output_type": "stream",
     "text": [
      "HELLO WORLD\n"
     ]
    }
   ],
   "source": [
    "uppercase = string3.upper()\n",
    "print(uppercase)"
   ]
  },
  {
   "cell_type": "code",
   "execution_count": 39,
   "id": "f77643ea",
   "metadata": {},
   "outputs": [
    {
     "name": "stdout",
     "output_type": "stream",
     "text": [
      "hello world\n"
     ]
    }
   ],
   "source": [
    "lowercase = string3.lower()\n",
    "print(lowercase)"
   ]
  },
  {
   "cell_type": "markdown",
   "id": "a66c67f3",
   "metadata": {},
   "source": [
    "### References"
   ]
  },
  {
   "cell_type": "markdown",
   "id": "1688c3e6",
   "metadata": {},
   "source": [
    "- Biggs, N.L., 2002. Discrete mathematics. Oxford University Press.\n",
    "- Sipser, M., 1996. Introduction to the Theory of Computation. ACM Sigact News, 27(1).\n",
    "- \n"
   ]
  }
 ],
 "metadata": {
  "kernelspec": {
   "display_name": "Python 3 (ipykernel)",
   "language": "python",
   "name": "python3"
  },
  "language_info": {
   "codemirror_mode": {
    "name": "ipython",
    "version": 3
   },
   "file_extension": ".py",
   "mimetype": "text/x-python",
   "name": "python",
   "nbconvert_exporter": "python",
   "pygments_lexer": "ipython3",
   "version": "3.9.13"
  }
 },
 "nbformat": 4,
 "nbformat_minor": 5
}
