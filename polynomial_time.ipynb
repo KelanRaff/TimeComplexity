{
 "cells": [
  {
   "cell_type": "markdown",
   "id": "293d0603",
   "metadata": {},
   "source": [
    "# The Polynomial Time Complexity Class (P)\n"
   ]
  },
  {
   "cell_type": "markdown",
   "id": "9b4f3d84",
   "metadata": {},
   "source": [
    "## Summary\n",
    "\n",
    "This python notebook is a detailed review on **The Polynomial Time Complexity Class**. The Time Complexity Class is an important concept in computer science and particularly when concerned with the implementation of algorithms. **Time complexity** is a way of comparing run times of algorithms in code, and there optimising and making code as efficent as possible.\n",
    "\n",
    "Specifically, we are interested in how the runtime of an algorithm increases as the numbers of inputs increases and how we can make this as efficient as possible, by finding the upper bound of the algorithms runtime. Our metric for this is **Big O notation**.\n",
    "\n",
    "There are multiple time complexity types. However in this notebook we will focus on one:\n",
    "\n",
    "Polynomial time complexity, a set of problems that have **algorithmic solutions** that run in polynomial time.\n",
    "\n",
    "We will also loom at a major unsolved problem in theoretical computer science \"**The P versus NP problem**\", and all other aspects of time complexity that will help us to understand this concept."
   ]
  },
  {
   "cell_type": "markdown",
   "id": "13fe12eb",
   "metadata": {},
   "source": [
    "## Introduction"
   ]
  },
  {
   "cell_type": "markdown",
   "id": "9d82655e",
   "metadata": {},
   "source": [
    "The following is some basic knowlegde that is needed to understand the basics of the theory of algorithms. This knowledge is the basic building blocks of what we need to know to understand the rest of this notebook;"
   ]
  },
  {
   "cell_type": "markdown",
   "id": "43263d11",
   "metadata": {},
   "source": [
    "### Sets"
   ]
  },
  {
   "cell_type": "markdown",
   "id": "17a5d4e4",
   "metadata": {},
   "source": [
    "In computing theory, a set is an **abstract data type** that includes a collection of distinct elements. Sets are used to model many different types of problems and **data structures**, including databases, hash tables, and graphs. In this notebook we will be using sets in Python."
   ]
  },
  {
   "cell_type": "markdown",
   "id": "db8ad661",
   "metadata": {},
   "source": [
    "Sets have unique advantages for solving problems in computer science:\n",
    "\n",
    "- Order: Sets do not have a specific order. The elements in a set are not arranged in any specific way. For example, the set {1, 2, 3} does not have a first element or a last element.\n",
    "- Membership: A set can hold any type of element, as long as the elements are distinct.\n",
    "- Operations: Sets are operable. It is possible to interact with them using set theory(union, intersection, difference)\n",
    "- Uniqueness: Sets only contain distinct elements and therefore duplicates do not exist within set theory."
   ]
  },
  {
   "cell_type": "code",
   "execution_count": 5,
   "id": "cca8ff27",
   "metadata": {},
   "outputs": [
    {
     "name": "stdout",
     "output_type": "stream",
     "text": [
      "{8, 2, 4, 6}\n"
     ]
    }
   ],
   "source": [
    "# Create a set\n",
    "set = {2, 4, 6, 8}\n",
    "print(set)   # {1, 2, 3, 4}\n"
   ]
  },
  {
   "cell_type": "code",
   "execution_count": 6,
   "id": "102fa3af",
   "metadata": {},
   "outputs": [
    {
     "name": "stdout",
     "output_type": "stream",
     "text": [
      "{2, 4, 6, 8, 10}\n"
     ]
    }
   ],
   "source": [
    "# Add an element to a set\n",
    "set.add(10)\n",
    "print(set)"
   ]
  },
  {
   "cell_type": "code",
   "execution_count": 8,
   "id": "149d1a38",
   "metadata": {},
   "outputs": [
    {
     "name": "stdout",
     "output_type": "stream",
     "text": [
      "{4, 6, 8}\n"
     ]
    }
   ],
   "source": [
    "# Remove an element from a set\n",
    "set.remove(2)\n",
    "print(set)   # {1, 2, 4, 5}"
   ]
  },
  {
   "cell_type": "markdown",
   "id": "313c6141",
   "metadata": {},
   "source": [
    "##### Set Operations"
   ]
  },
  {
   "cell_type": "code",
   "execution_count": 12,
   "id": "84c61c7c",
   "metadata": {},
   "outputs": [],
   "source": [
    "# create two sets\n",
    "setone = {1, 2, 3}\n",
    "settwo = {2, 3, 4}"
   ]
  },
  {
   "cell_type": "markdown",
   "id": "41df71fb",
   "metadata": {},
   "source": [
    "*Union Example:*"
   ]
  },
  {
   "cell_type": "code",
   "execution_count": 13,
   "id": "3b4d2a02",
   "metadata": {},
   "outputs": [
    {
     "name": "stdout",
     "output_type": "stream",
     "text": [
      "{1, 2, 3, 4}\n"
     ]
    }
   ],
   "source": [
    "# Returns a set containing all the elements in both sets\n",
    "print(setone.union(settwo))"
   ]
  },
  {
   "cell_type": "markdown",
   "id": "ecb16b13",
   "metadata": {},
   "source": [
    "*Intersection Example:*"
   ]
  },
  {
   "cell_type": "code",
   "execution_count": 14,
   "id": "5ab541ab",
   "metadata": {},
   "outputs": [
    {
     "name": "stdout",
     "output_type": "stream",
     "text": [
      "{2, 3}\n"
     ]
    }
   ],
   "source": [
    "# returns a set containing the common elements in both sets\n",
    "print(setone.intersection(settwo))"
   ]
  },
  {
   "cell_type": "markdown",
   "id": "66750b71",
   "metadata": {},
   "source": [
    "*Difference Example:*"
   ]
  },
  {
   "cell_type": "code",
   "execution_count": 15,
   "id": "c0f8e7b9",
   "metadata": {},
   "outputs": [
    {
     "name": "stdout",
     "output_type": "stream",
     "text": [
      "{1}\n"
     ]
    }
   ],
   "source": [
    "# returns a set containing the elements in set1 that are not in set2\n",
    "print(setone.difference(settwo))"
   ]
  },
  {
   "cell_type": "markdown",
   "id": "8e78de85",
   "metadata": {},
   "source": [
    "*Subset Example:*"
   ]
  },
  {
   "cell_type": "code",
   "execution_count": 16,
   "id": "f2aedcfc",
   "metadata": {},
   "outputs": [
    {
     "name": "stdout",
     "output_type": "stream",
     "text": [
      "False\n"
     ]
    }
   ],
   "source": [
    "# checks if set1 is a subset of set2\n",
    "print(setone.issubset(settwo))"
   ]
  },
  {
   "cell_type": "markdown",
   "id": "117445d2",
   "metadata": {},
   "source": [
    "*Superset Example:*"
   ]
  },
  {
   "cell_type": "code",
   "execution_count": 18,
   "id": "bb1f895b",
   "metadata": {},
   "outputs": [
    {
     "name": "stdout",
     "output_type": "stream",
     "text": [
      "False\n"
     ]
    }
   ],
   "source": [
    "# checks if set1 is a superset of set2\n",
    "print(setone.issuperset(settwo))"
   ]
  },
  {
   "cell_type": "markdown",
   "id": "7d416214",
   "metadata": {},
   "source": [
    "### Tuples"
   ]
  },
  {
   "cell_type": "markdown",
   "id": "9fa68716",
   "metadata": {},
   "source": [
    "A tuple is an **ordered, immutable sequence of elements** that contains any combination of data types. Tuples are usually used in computing to represent a *fixed set* of related data. In this notebook we will be using Tuples in python.\n",
    "\n",
    "Sets also offer there own unique advantages for solving problems in computer science:\n",
    "\n",
    "- ordered: Tuples are ordered and maintain their order until their last instance in a program.\n",
    "- Flexible: Tuples can contain any data type, including numbers strings lists and other tuples.\n",
    "- Immutable: Once a tuple is created it is not editable, you can add delete or reorder that tuple, you must create another."
   ]
  },
  {
   "cell_type": "code",
   "execution_count": 21,
   "id": "8b2991bf",
   "metadata": {},
   "outputs": [],
   "source": [
    "# create a tuple of integers\n",
    "t = (2, 4, 6, 8, 10)\n",
    "\n",
    "# create a tuple of mixed data types\n",
    "t2 = (27, \"Hello\", [2, 4, 6], {\"name\": \"Alan\", \"age\": 50})"
   ]
  },
  {
   "cell_type": "markdown",
   "id": "4b4fae44",
   "metadata": {},
   "source": [
    "##### Accessing Tuples"
   ]
  },
  {
   "cell_type": "code",
   "execution_count": 22,
   "id": "31afe90b",
   "metadata": {},
   "outputs": [
    {
     "name": "stdout",
     "output_type": "stream",
     "text": [
      "2\n",
      "10\n"
     ]
    }
   ],
   "source": [
    "# access first element\n",
    "print(t[0])\n",
    "\n",
    "# access last element\n",
    "print(t[len(t) - 1])"
   ]
  },
  {
   "cell_type": "markdown",
   "id": "cc7dd6e4",
   "metadata": {},
   "source": [
    "##### Tuple Operations"
   ]
  },
  {
   "cell_type": "code",
   "execution_count": 23,
   "id": "0cfdcdff",
   "metadata": {},
   "outputs": [],
   "source": [
    "# create two tuples\n",
    "t1 = (1, 2, 3)\n",
    "t2 = (4, 5, 6)"
   ]
  },
  {
   "cell_type": "markdown",
   "id": "99e80c24",
   "metadata": {},
   "source": [
    "*Concat tuples:*"
   ]
  },
  {
   "cell_type": "code",
   "execution_count": 25,
   "id": "00e8c4b8",
   "metadata": {},
   "outputs": [
    {
     "name": "stdout",
     "output_type": "stream",
     "text": [
      "(1, 2, 3, 4, 5, 6)\n"
     ]
    }
   ],
   "source": [
    "t3 = t1 + t2\n",
    "\n",
    "print(t3)"
   ]
  },
  {
   "cell_type": "markdown",
   "id": "3ec1848d",
   "metadata": {},
   "source": [
    "*Slicing tuples:*"
   ]
  },
  {
   "cell_type": "code",
   "execution_count": 26,
   "id": "81da5c5f",
   "metadata": {},
   "outputs": [
    {
     "name": "stdout",
     "output_type": "stream",
     "text": [
      "(2, 4, 6)\n"
     ]
    }
   ],
   "source": [
    "t2 = t[0:3]\n",
    "\n",
    "print(t2)"
   ]
  },
  {
   "cell_type": "markdown",
   "id": "58ab367c",
   "metadata": {},
   "source": [
    "*Membership testing tuples:*"
   ]
  },
  {
   "cell_type": "code",
   "execution_count": 27,
   "id": "ef48d33e",
   "metadata": {},
   "outputs": [],
   "source": [
    "t = (1, 2, 3, 4, 5)"
   ]
  },
  {
   "cell_type": "markdown",
   "id": "ed3c0e9a",
   "metadata": {},
   "source": [
    "- *check if the element 3 is present in the tuple:*"
   ]
  },
  {
   "cell_type": "code",
   "execution_count": 28,
   "id": "8a1e9312",
   "metadata": {},
   "outputs": [
    {
     "name": "stdout",
     "output_type": "stream",
     "text": [
      "True\n"
     ]
    }
   ],
   "source": [
    "print(3 in t)"
   ]
  },
  {
   "cell_type": "markdown",
   "id": "bb429b63",
   "metadata": {},
   "source": [
    "- *check if the element 6 is present in the tuple*"
   ]
  },
  {
   "cell_type": "code",
   "execution_count": 29,
   "id": "f4afe5d8",
   "metadata": {},
   "outputs": [
    {
     "name": "stdout",
     "output_type": "stream",
     "text": [
      "False\n"
     ]
    }
   ],
   "source": [
    "print(6 in t)"
   ]
  },
  {
   "cell_type": "markdown",
   "id": "7ce6fd57",
   "metadata": {},
   "source": [
    "### Strings"
   ]
  },
  {
   "cell_type": "markdown",
   "id": "d575641f",
   "metadata": {},
   "source": [
    "A String is a **sequence of characters** in computing commonly used for a variety of different types of tasks like; store data or gather user input, show user output or else communicate with external programs. In this notebook we will be using Strings in python.\n",
    "\n",
    "Strings also offer there own unique advantages for solving problems in computer science:\n",
    "\n",
    "- Concatenation: Strings can be added togther in different ways to produce a a larger, singular string.\n",
    "- Slicing: Retrieving a substring based on a conditon given by the user.\n",
    "- Length: Calculating the length of a given string.\n",
    "- Case conversion: Converting from upper to lower and backwards."
   ]
  },
  {
   "cell_type": "markdown",
   "id": "7773c0db",
   "metadata": {},
   "source": [
    "**String operations:**"
   ]
  },
  {
   "cell_type": "code",
   "execution_count": 32,
   "id": "4c200123",
   "metadata": {},
   "outputs": [],
   "source": [
    "string1 = \"hello\"\n",
    "string2 = \"world\""
   ]
  },
  {
   "cell_type": "markdown",
   "id": "6a1b86d9",
   "metadata": {},
   "source": [
    "*Concatenation:*"
   ]
  },
  {
   "cell_type": "code",
   "execution_count": 34,
   "id": "05e7ec4b",
   "metadata": {},
   "outputs": [
    {
     "name": "stdout",
     "output_type": "stream",
     "text": [
      "hello world\n"
     ]
    }
   ],
   "source": [
    "string3 = string1 + \" \" + string2\n",
    "print(string3)"
   ]
  },
  {
   "cell_type": "markdown",
   "id": "951fa64c",
   "metadata": {},
   "source": [
    "*Substring:*"
   ]
  },
  {
   "cell_type": "code",
   "execution_count": 35,
   "id": "41a6c4c8",
   "metadata": {},
   "outputs": [
    {
     "name": "stdout",
     "output_type": "stream",
     "text": [
      "hel\n"
     ]
    }
   ],
   "source": [
    "substring = string3[0:3]\n",
    "print(substring)"
   ]
  },
  {
   "cell_type": "markdown",
   "id": "690db79f",
   "metadata": {},
   "source": [
    "*Length:*"
   ]
  },
  {
   "cell_type": "code",
   "execution_count": 37,
   "id": "7180baf8",
   "metadata": {},
   "outputs": [
    {
     "name": "stdout",
     "output_type": "stream",
     "text": [
      "11\n"
     ]
    }
   ],
   "source": [
    "length = len(string3)\n",
    "print(length)"
   ]
  },
  {
   "cell_type": "markdown",
   "id": "1f862d55",
   "metadata": {},
   "source": [
    "*Case Conversion:*"
   ]
  },
  {
   "cell_type": "code",
   "execution_count": 38,
   "id": "0561412c",
   "metadata": {},
   "outputs": [
    {
     "name": "stdout",
     "output_type": "stream",
     "text": [
      "HELLO WORLD\n"
     ]
    }
   ],
   "source": [
    "uppercase = string3.upper()\n",
    "print(uppercase)"
   ]
  },
  {
   "cell_type": "code",
   "execution_count": 39,
   "id": "4ece3982",
   "metadata": {},
   "outputs": [
    {
     "name": "stdout",
     "output_type": "stream",
     "text": [
      "hello world\n"
     ]
    }
   ],
   "source": [
    "lowercase = string3.lower()\n",
    "print(lowercase)"
   ]
  },
  {
   "cell_type": "markdown",
   "id": "cbacb396",
   "metadata": {},
   "source": [
    "Now that we understand the operations of these basic computing terms, we may apply them to our Polynomial Time complexity Problems:"
   ]
  },
  {
   "cell_type": "markdown",
   "id": "f0c091a7",
   "metadata": {},
   "source": [
    "## P vs NP"
   ]
  },
  {
   "cell_type": "markdown",
   "id": "5ec5b904",
   "metadata": {},
   "source": [
    "The P vs NP problem is a major problem that has yet to be solved in mathematics, that basically is the the essence of what was discussed above. The Question is, can a problem be quickly solved and quickly verified in polynomial time. It is **widely believed** for the most part, that P != NP which if true would mean that problems that are NP are harder to compute than to verify. they couldnt be solved in polynomial time but could be verified within it.\n",
    "\n",
    "Formula : **P = NP**\n",
    "\n",
    "*Where P = Polynomial Time NP = Nondeternimistic Polynomial Time*\n",
    "\n",
    "A hungarian scientist by the name of **laszló Babai** has had breakthough results in recent years however they are still being fully verified which takes time. His results were proof that the graph isomorphism problem could be solved in **quasi-polynomial time**."
   ]
  },
  {
   "cell_type": "markdown",
   "id": "213aaadb",
   "metadata": {},
   "source": [
    "### References"
   ]
  },
  {
   "cell_type": "markdown",
   "id": "b2766434",
   "metadata": {},
   "source": [
    "- Biggs, N.L., 2002. Discrete mathematics. Oxford University Press.\n",
    "- Sipser, M., 1996. Introduction to the Theory of Computation. ACM Sigact News, 27(1).\n",
    "- \n"
   ]
  }
 ],
 "metadata": {
  "kernelspec": {
   "display_name": "Python 3 (ipykernel)",
   "language": "python",
   "name": "python3"
  },
  "language_info": {
   "codemirror_mode": {
    "name": "ipython",
    "version": 3
   },
   "file_extension": ".py",
   "mimetype": "text/x-python",
   "name": "python",
   "nbconvert_exporter": "python",
   "pygments_lexer": "ipython3",
   "version": "3.9.13"
  }
 },
 "nbformat": 4,
 "nbformat_minor": 5
}
