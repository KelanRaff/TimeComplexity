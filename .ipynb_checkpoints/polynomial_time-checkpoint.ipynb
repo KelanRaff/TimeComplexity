{
 "cells": [
  {
   "cell_type": "markdown",
   "id": "293d0603",
   "metadata": {},
   "source": [
    "# The Polynomial Time Complexity Class (P)\n"
   ]
  },
  {
   "cell_type": "markdown",
   "id": "9b4f3d84",
   "metadata": {},
   "source": [
    "## Summary\n",
    "\n",
    "This python notebook is a detailed review on **The Polynomial Time Complexity Class**. The Time Complexity Class is an important concept in computer science and particularly when concerned with the implementation of algorithms. **Time complexity** is a way of comparing run times of algorithms in code, and there optimising and making code as efficent as possible.\n",
    "\n",
    "There are mupltiple time complexity types. However in this notebook we will focus on one; Polynomial time complexity,we will also loom at a major unsolved problem in theoretical computer science \"**The P versus NP problem**\", and all other aspects of time complexity that will help us to understand this concept."
   ]
  },
  {
   "cell_type": "markdown",
   "id": "b6b19be3",
   "metadata": {},
   "source": [
    "## Introduction"
   ]
  },
  {
   "cell_type": "markdown",
   "id": "75949b22",
   "metadata": {},
   "source": [
    "The following is some basic knowlegde that is needed to understand the basics of the theory of algorithms. This knowledge is the basic building blocks of what we need to know to understand the rest of this notebook;"
   ]
  },
  {
   "cell_type": "markdown",
   "id": "e436505a",
   "metadata": {},
   "source": [
    "##### Sets"
   ]
  },
  {
   "cell_type": "markdown",
   "id": "aa70122e",
   "metadata": {},
   "source": [
    "In computing theory, a set is an **abstract data type** that includes a collection of distinct elements. Sets are used to model many different types of problems and **data structures**, including databases, hash tables, and graphs. In this notebook we will be using sets in Python."
   ]
  },
  {
   "cell_type": "markdown",
   "id": "d7d2e0f1",
   "metadata": {},
   "source": [
    "Sets have unique advantages for solving problems in computer science.\n",
    "\n",
    "- Order: Sets do not have a specific order. The elements in a set are not arranged in any specific way. For example, the set {1, 2, 3} does not have a first element or a last element.\n",
    "- Membership: A set can hold any type of element, as long as the elements are distinct.\n",
    "- Operations: Sets are operable. It is possible to interact with them using set theory(union, intersection, difference)\n",
    "- Uniqueness: Sets only contain distinct elements and therefore duplicates do not exist within set theory."
   ]
  },
  {
   "cell_type": "code",
   "execution_count": 5,
   "id": "02debf6b",
   "metadata": {},
   "outputs": [
    {
     "name": "stdout",
     "output_type": "stream",
     "text": [
      "{8, 2, 4, 6}\n"
     ]
    }
   ],
   "source": [
    "# Create a set\n",
    "set = {2, 4, 6, 8}\n",
    "print(set)   # {1, 2, 3, 4}\n"
   ]
  },
  {
   "cell_type": "code",
   "execution_count": 6,
   "id": "1339bd2e",
   "metadata": {},
   "outputs": [
    {
     "name": "stdout",
     "output_type": "stream",
     "text": [
      "{2, 4, 6, 8, 10}\n"
     ]
    }
   ],
   "source": [
    "# Add an element to a set\n",
    "set.add(10)\n",
    "print(set)"
   ]
  },
  {
   "cell_type": "code",
   "execution_count": 8,
   "id": "2d731dd3",
   "metadata": {},
   "outputs": [
    {
     "name": "stdout",
     "output_type": "stream",
     "text": [
      "{4, 6, 8}\n"
     ]
    }
   ],
   "source": [
    "# Remove an element from a set\n",
    "set.remove(2)\n",
    "print(set)   # {1, 2, 4, 5}"
   ]
  },
  {
   "cell_type": "markdown",
   "id": "70169521",
   "metadata": {},
   "source": [
    "##### Set Operations"
   ]
  },
  {
   "cell_type": "code",
   "execution_count": 12,
   "id": "e4de3e50",
   "metadata": {},
   "outputs": [],
   "source": [
    "# create two sets\n",
    "setone = {1, 2, 3}\n",
    "settwo = {2, 3, 4}"
   ]
  },
  {
   "cell_type": "markdown",
   "id": "f0750fc5",
   "metadata": {},
   "source": [
    "*Union Example:*"
   ]
  },
  {
   "cell_type": "code",
   "execution_count": 13,
   "id": "09c2c6ab",
   "metadata": {},
   "outputs": [
    {
     "name": "stdout",
     "output_type": "stream",
     "text": [
      "{1, 2, 3, 4}\n"
     ]
    }
   ],
   "source": [
    "# Returns a set containing all the elements in both sets\n",
    "print(setone.union(settwo))"
   ]
  },
  {
   "cell_type": "markdown",
   "id": "2f27d55d",
   "metadata": {},
   "source": [
    "*Intersection Example:*"
   ]
  },
  {
   "cell_type": "code",
   "execution_count": 14,
   "id": "eca99eaa",
   "metadata": {},
   "outputs": [
    {
     "name": "stdout",
     "output_type": "stream",
     "text": [
      "{2, 3}\n"
     ]
    }
   ],
   "source": [
    "# returns a set containing the common elements in both sets\n",
    "print(setone.intersection(settwo))"
   ]
  },
  {
   "cell_type": "markdown",
   "id": "3ece2500",
   "metadata": {},
   "source": [
    "*Difference Example:*"
   ]
  },
  {
   "cell_type": "code",
   "execution_count": 15,
   "id": "6d0a2c24",
   "metadata": {},
   "outputs": [
    {
     "name": "stdout",
     "output_type": "stream",
     "text": [
      "{1}\n"
     ]
    }
   ],
   "source": [
    "# returns a set containing the elements in set1 that are not in set2\n",
    "print(setone.difference(settwo))"
   ]
  },
  {
   "cell_type": "markdown",
   "id": "900c414e",
   "metadata": {},
   "source": [
    "*Subset Example:*"
   ]
  },
  {
   "cell_type": "code",
   "execution_count": 16,
   "id": "2df068c7",
   "metadata": {},
   "outputs": [
    {
     "name": "stdout",
     "output_type": "stream",
     "text": [
      "False\n"
     ]
    }
   ],
   "source": [
    "# checks if set1 is a subset of set2\n",
    "print(setone.issubset(settwo))"
   ]
  },
  {
   "cell_type": "markdown",
   "id": "1e1ddf8b",
   "metadata": {},
   "source": [
    "*Superset Example:*"
   ]
  },
  {
   "cell_type": "code",
   "execution_count": 18,
   "id": "7f2c9628",
   "metadata": {},
   "outputs": [
    {
     "name": "stdout",
     "output_type": "stream",
     "text": [
      "False\n"
     ]
    }
   ],
   "source": [
    "# checks if set1 is a superset of set2\n",
    "print(setone.issuperset(settwo))"
   ]
  },
  {
   "cell_type": "markdown",
   "id": "0ddb38db",
   "metadata": {},
   "source": [
    "##### Sets"
   ]
  },
  {
   "cell_type": "markdown",
   "id": "43b38aae",
   "metadata": {},
   "source": []
  },
  {
   "cell_type": "markdown",
   "id": "b3f68371",
   "metadata": {},
   "source": [
    "### References"
   ]
  },
  {
   "cell_type": "markdown",
   "id": "6f0eefdf",
   "metadata": {},
   "source": []
  }
 ],
 "metadata": {
  "kernelspec": {
   "display_name": "Python 3 (ipykernel)",
   "language": "python",
   "name": "python3"
  },
  "language_info": {
   "codemirror_mode": {
    "name": "ipython",
    "version": 3
   },
   "file_extension": ".py",
   "mimetype": "text/x-python",
   "name": "python",
   "nbconvert_exporter": "python",
   "pygments_lexer": "ipython3",
   "version": "3.9.13"
  }
 },
 "nbformat": 4,
 "nbformat_minor": 5
}
