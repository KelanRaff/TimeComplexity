{
 "cells": [
  {
   "cell_type": "markdown",
   "id": "293d0603",
   "metadata": {},
   "source": [
    "# The Polynomial Time Complexity Class (P)\n"
   ]
  },
  {
   "cell_type": "markdown",
   "id": "9b4f3d84",
   "metadata": {},
   "source": [
    "## Summary\n",
    "\n",
    "This python notebook is a detailed review on **The Polynomial Time Complexity Class**. The Time Complexity Class is an important concept in computer science and particularly when concerned with the implementation of algorithms. **Time complexity** is a way of comparing run times of algorithms in code, and there optimising and making code as efficent as possible.\n",
    "\n",
    "There are mupltiple time complexity types. However in this notebook we will focus on one; Polynomial time complexity,we will also loom at a major unsolved problem in theoretical computer science \"**The P versus NP problem**\", and all other aspects of time complexity that will help us to understand this concept."
   ]
  },
  {
   "cell_type": "markdown",
   "id": "9ecf1d08",
   "metadata": {},
   "source": [
    "## Introduction"
   ]
  },
  {
   "cell_type": "markdown",
   "id": "4df49210",
   "metadata": {},
   "source": [
    "The following is some basic knowlegde that is needed to understand the basics of the theory of algorithms. This knowledge is the basic building blocks of what we need to know to understand the rest of this notebook;"
   ]
  },
  {
   "cell_type": "markdown",
   "id": "5600a166",
   "metadata": {},
   "source": [
    "### Sets"
   ]
  },
  {
   "cell_type": "markdown",
   "id": "3343d2a4",
   "metadata": {},
   "source": [
    "In computing theory, a set is an **abstract data type** that includes a collection of distinct elements. Sets are used to model many different types of problems and **data structures**, including databases, hash tables, and graphs. In this notebook we will be using sets in Python."
   ]
  },
  {
   "cell_type": "markdown",
   "id": "ade4c1ff",
   "metadata": {},
   "source": [
    "Sets have unique advantages for solving problems in computer science:\n",
    "\n",
    "- Order: Sets do not have a specific order. The elements in a set are not arranged in any specific way. For example, the set {1, 2, 3} does not have a first element or a last element.\n",
    "- Membership: A set can hold any type of element, as long as the elements are distinct.\n",
    "- Operations: Sets are operable. It is possible to interact with them using set theory(union, intersection, difference)\n",
    "- Uniqueness: Sets only contain distinct elements and therefore duplicates do not exist within set theory."
   ]
  },
  {
   "cell_type": "code",
   "execution_count": 5,
   "id": "0f2e6a68",
   "metadata": {},
   "outputs": [
    {
     "name": "stdout",
     "output_type": "stream",
     "text": [
      "{8, 2, 4, 6}\n"
     ]
    }
   ],
   "source": [
    "# Create a set\n",
    "set = {2, 4, 6, 8}\n",
    "print(set)   # {1, 2, 3, 4}\n"
   ]
  },
  {
   "cell_type": "code",
   "execution_count": 6,
   "id": "8c4bc13f",
   "metadata": {},
   "outputs": [
    {
     "name": "stdout",
     "output_type": "stream",
     "text": [
      "{2, 4, 6, 8, 10}\n"
     ]
    }
   ],
   "source": [
    "# Add an element to a set\n",
    "set.add(10)\n",
    "print(set)"
   ]
  },
  {
   "cell_type": "code",
   "execution_count": 8,
   "id": "744c16f5",
   "metadata": {},
   "outputs": [
    {
     "name": "stdout",
     "output_type": "stream",
     "text": [
      "{4, 6, 8}\n"
     ]
    }
   ],
   "source": [
    "# Remove an element from a set\n",
    "set.remove(2)\n",
    "print(set)   # {1, 2, 4, 5}"
   ]
  },
  {
   "cell_type": "markdown",
   "id": "f37c4dc1",
   "metadata": {},
   "source": [
    "##### Set Operations"
   ]
  },
  {
   "cell_type": "code",
   "execution_count": 12,
   "id": "c4080b9f",
   "metadata": {},
   "outputs": [],
   "source": [
    "# create two sets\n",
    "setone = {1, 2, 3}\n",
    "settwo = {2, 3, 4}"
   ]
  },
  {
   "cell_type": "markdown",
   "id": "568fb04c",
   "metadata": {},
   "source": [
    "*Union Example:*"
   ]
  },
  {
   "cell_type": "code",
   "execution_count": 13,
   "id": "0fddfccd",
   "metadata": {},
   "outputs": [
    {
     "name": "stdout",
     "output_type": "stream",
     "text": [
      "{1, 2, 3, 4}\n"
     ]
    }
   ],
   "source": [
    "# Returns a set containing all the elements in both sets\n",
    "print(setone.union(settwo))"
   ]
  },
  {
   "cell_type": "markdown",
   "id": "6aa6dc74",
   "metadata": {},
   "source": [
    "*Intersection Example:*"
   ]
  },
  {
   "cell_type": "code",
   "execution_count": 14,
   "id": "7dc38b42",
   "metadata": {},
   "outputs": [
    {
     "name": "stdout",
     "output_type": "stream",
     "text": [
      "{2, 3}\n"
     ]
    }
   ],
   "source": [
    "# returns a set containing the common elements in both sets\n",
    "print(setone.intersection(settwo))"
   ]
  },
  {
   "cell_type": "markdown",
   "id": "7ce68b2d",
   "metadata": {},
   "source": [
    "*Difference Example:*"
   ]
  },
  {
   "cell_type": "code",
   "execution_count": 15,
   "id": "71db1e5d",
   "metadata": {},
   "outputs": [
    {
     "name": "stdout",
     "output_type": "stream",
     "text": [
      "{1}\n"
     ]
    }
   ],
   "source": [
    "# returns a set containing the elements in set1 that are not in set2\n",
    "print(setone.difference(settwo))"
   ]
  },
  {
   "cell_type": "markdown",
   "id": "03d4da7f",
   "metadata": {},
   "source": [
    "*Subset Example:*"
   ]
  },
  {
   "cell_type": "code",
   "execution_count": 16,
   "id": "92654433",
   "metadata": {},
   "outputs": [
    {
     "name": "stdout",
     "output_type": "stream",
     "text": [
      "False\n"
     ]
    }
   ],
   "source": [
    "# checks if set1 is a subset of set2\n",
    "print(setone.issubset(settwo))"
   ]
  },
  {
   "cell_type": "markdown",
   "id": "1e993901",
   "metadata": {},
   "source": [
    "*Superset Example:*"
   ]
  },
  {
   "cell_type": "code",
   "execution_count": 18,
   "id": "459def31",
   "metadata": {},
   "outputs": [
    {
     "name": "stdout",
     "output_type": "stream",
     "text": [
      "False\n"
     ]
    }
   ],
   "source": [
    "# checks if set1 is a superset of set2\n",
    "print(setone.issuperset(settwo))"
   ]
  },
  {
   "cell_type": "markdown",
   "id": "e4dccf85",
   "metadata": {},
   "source": [
    "### Tuples"
   ]
  },
  {
   "cell_type": "markdown",
   "id": "c43827e0",
   "metadata": {},
   "source": [
    "A tuple is an **ordered, immutable sequence of elements** that contains any combination of data types. Tuples are usually used in computing to represent a *fixed set* of related data. In this notebook we will be using Tuples in python.\n",
    "\n",
    "Sets also offer there own unique advantages for solving problems in computer science:\n",
    "\n",
    "- ordered: Tuples are ordered and maintain their order until their last instance in a program.\n",
    "- Flexible: Tuples can contain any data type, including numbers strings lists and other tuples.\n",
    "- Immutable: Once a tuple is created it is not editable, you can add delete or reorder that tuple, you must create another."
   ]
  },
  {
   "cell_type": "code",
   "execution_count": 21,
   "id": "c06b3a8f",
   "metadata": {},
   "outputs": [],
   "source": [
    "# create a tuple of integers\n",
    "t = (2, 4, 6, 8, 10)\n",
    "\n",
    "# create a tuple of mixed data types\n",
    "t2 = (27, \"Hello\", [2, 4, 6], {\"name\": \"Alan\", \"age\": 50})"
   ]
  },
  {
   "cell_type": "markdown",
   "id": "bb286f33",
   "metadata": {},
   "source": [
    "##### Accessing Tuples"
   ]
  },
  {
   "cell_type": "code",
   "execution_count": 22,
   "id": "514af9a8",
   "metadata": {},
   "outputs": [
    {
     "name": "stdout",
     "output_type": "stream",
     "text": [
      "2\n",
      "10\n"
     ]
    }
   ],
   "source": [
    "# access first element\n",
    "print(t[0])\n",
    "\n",
    "# access last element\n",
    "print(t[len(t) - 1])"
   ]
  },
  {
   "cell_type": "markdown",
   "id": "465430cc",
   "metadata": {},
   "source": [
    "##### Tuple Operations"
   ]
  },
  {
   "cell_type": "code",
   "execution_count": 23,
   "id": "bb04c100",
   "metadata": {},
   "outputs": [],
   "source": [
    "# create two tuples\n",
    "t1 = (1, 2, 3)\n",
    "t2 = (4, 5, 6)"
   ]
  },
  {
   "cell_type": "markdown",
   "id": "db98618b",
   "metadata": {},
   "source": [
    "*Concat tuples:*"
   ]
  },
  {
   "cell_type": "code",
   "execution_count": 25,
   "id": "f2f4ef97",
   "metadata": {},
   "outputs": [
    {
     "name": "stdout",
     "output_type": "stream",
     "text": [
      "(1, 2, 3, 4, 5, 6)\n"
     ]
    }
   ],
   "source": [
    "t3 = t1 + t2\n",
    "\n",
    "print(t3)"
   ]
  },
  {
   "cell_type": "markdown",
   "id": "d9e0fc89",
   "metadata": {},
   "source": [
    "*Slicing tuples:*"
   ]
  },
  {
   "cell_type": "code",
   "execution_count": 26,
   "id": "55ae846c",
   "metadata": {},
   "outputs": [
    {
     "name": "stdout",
     "output_type": "stream",
     "text": [
      "(2, 4, 6)\n"
     ]
    }
   ],
   "source": [
    "t2 = t[0:3]\n",
    "\n",
    "print(t2)"
   ]
  },
  {
   "cell_type": "markdown",
   "id": "6ef4d7cf",
   "metadata": {},
   "source": [
    "*Membership testing tuples:*"
   ]
  },
  {
   "cell_type": "code",
   "execution_count": 27,
   "id": "f7a173ba",
   "metadata": {},
   "outputs": [],
   "source": [
    "t = (1, 2, 3, 4, 5)"
   ]
  },
  {
   "cell_type": "markdown",
   "id": "ec018548",
   "metadata": {},
   "source": [
    "- *check if the element 3 is present in the tuple:*"
   ]
  },
  {
   "cell_type": "code",
   "execution_count": 28,
   "id": "4788b6e2",
   "metadata": {},
   "outputs": [
    {
     "name": "stdout",
     "output_type": "stream",
     "text": [
      "True\n"
     ]
    }
   ],
   "source": [
    "print(3 in t)"
   ]
  },
  {
   "cell_type": "markdown",
   "id": "9847d780",
   "metadata": {},
   "source": [
    "- *check if the element 6 is present in the tuple*"
   ]
  },
  {
   "cell_type": "code",
   "execution_count": 29,
   "id": "8dcabba1",
   "metadata": {},
   "outputs": [
    {
     "name": "stdout",
     "output_type": "stream",
     "text": [
      "False\n"
     ]
    }
   ],
   "source": [
    "print(6 in t)"
   ]
  },
  {
   "cell_type": "markdown",
   "id": "aad03633",
   "metadata": {},
   "source": [
    "### Strings"
   ]
  },
  {
   "cell_type": "markdown",
   "id": "6b86a6fc",
   "metadata": {},
   "source": [
    "A String is a **sequence of characters** in computing commonly used for a variety of different types of tasks like; store data or gather user input, show user output or else communicate with external programs. In this notebook we will be using Strings in python.\n",
    "\n",
    "Strings also offer there own unique advantages for solving problems in computer science:\n",
    "\n",
    "- Concatenation: Strings can be added togther in different ways to produce a a larger, singular string.\n",
    "- Slicing: \n",
    "- Length: \n",
    "- Case conversion: "
   ]
  },
  {
   "cell_type": "code",
   "execution_count": null,
   "id": "533c3663",
   "metadata": {},
   "outputs": [],
   "source": []
  },
  {
   "cell_type": "code",
   "execution_count": null,
   "id": "ec4fe4cb",
   "metadata": {},
   "outputs": [],
   "source": []
  },
  {
   "cell_type": "code",
   "execution_count": null,
   "id": "570f5645",
   "metadata": {},
   "outputs": [],
   "source": []
  },
  {
   "cell_type": "markdown",
   "id": "65834231",
   "metadata": {},
   "source": [
    "### References"
   ]
  },
  {
   "cell_type": "markdown",
   "id": "9c78495a",
   "metadata": {},
   "source": []
  }
 ],
 "metadata": {
  "kernelspec": {
   "display_name": "Python 3 (ipykernel)",
   "language": "python",
   "name": "python3"
  },
  "language_info": {
   "codemirror_mode": {
    "name": "ipython",
    "version": 3
   },
   "file_extension": ".py",
   "mimetype": "text/x-python",
   "name": "python",
   "nbconvert_exporter": "python",
   "pygments_lexer": "ipython3",
   "version": "3.9.13"
  }
 },
 "nbformat": 4,
 "nbformat_minor": 5
}
